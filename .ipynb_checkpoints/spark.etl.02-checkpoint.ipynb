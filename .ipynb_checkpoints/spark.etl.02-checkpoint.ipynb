{
 "cells": [
  {
   "cell_type": "code",
   "execution_count": 1,
   "id": "cdffb43d",
   "metadata": {},
   "outputs": [],
   "source": [
    "from pyspark.sql import SparkSession\n",
    "from pyspark.context import SparkContext"
   ]
  },
  {
   "cell_type": "code",
   "execution_count": null,
   "id": "5895c582",
   "metadata": {},
   "outputs": [],
   "source": [
    "spark = SparkSession.builder.appName('AApp').getOrCreate()"
   ]
  },
  {
   "cell_type": "code",
   "execution_count": 5,
   "id": "3eb7f939",
   "metadata": {},
   "outputs": [],
   "source": [
    "data = [(\"James\",\"Smith\",\"USA\",\"CA\"),\n",
    "    (\"Michael\",\"Rose\",\"USA\",\"NY\"),\n",
    "    (\"Robert\",\"Williams\",\"USA\",\"CA\"),\n",
    "    (\"Maria\",\"Jones\",\"USA\",\"FL\")\n",
    "  ]\n",
    "columns = [\"firstname\",\"lastname\",\"country\",\"state\"]"
   ]
  },
  {
   "cell_type": "code",
   "execution_count": 7,
   "id": "6b99f4f2",
   "metadata": {},
   "outputs": [],
   "source": [
    "df = spark.createDataFrame(data=data, schema=columns)"
   ]
  },
  {
   "cell_type": "code",
   "execution_count": 9,
   "id": "90885945",
   "metadata": {},
   "outputs": [
    {
     "data": {
      "text/plain": [
       "4"
      ]
     },
     "execution_count": 9,
     "metadata": {},
     "output_type": "execute_result"
    }
   ],
   "source": [
    "df.count()"
   ]
  },
  {
   "cell_type": "code",
   "execution_count": 10,
   "id": "eab3b361",
   "metadata": {},
   "outputs": [
    {
     "name": "stdout",
     "output_type": "stream",
     "text": [
      "+---------+--------+-------+-----+\n",
      "|firstname|lastname|country|state|\n",
      "+---------+--------+-------+-----+\n",
      "|    James|   Smith|    USA|   CA|\n",
      "|  Michael|    Rose|    USA|   NY|\n",
      "|   Robert|Williams|    USA|   CA|\n",
      "|    Maria|   Jones|    USA|   FL|\n",
      "+---------+--------+-------+-----+\n",
      "\n"
     ]
    }
   ],
   "source": [
    "df.show()"
   ]
  },
  {
   "cell_type": "code",
   "execution_count": 13,
   "id": "1b8ed67d",
   "metadata": {},
   "outputs": [
    {
     "name": "stdout",
     "output_type": "stream",
     "text": [
      "+---------+--------+\n",
      "|firstname|lastname|\n",
      "+---------+--------+\n",
      "|    James|   Smith|\n",
      "|  Michael|    Rose|\n",
      "|   Robert|Williams|\n",
      "|    Maria|   Jones|\n",
      "+---------+--------+\n",
      "\n"
     ]
    }
   ],
   "source": [
    "df.select('firstname','lastname').show(90)"
   ]
  },
  {
   "cell_type": "code",
   "execution_count": 15,
   "id": "9b223b6e",
   "metadata": {},
   "outputs": [
    {
     "name": "stdout",
     "output_type": "stream",
     "text": [
      "+---------+--------+-----+\n",
      "|firstname|lastname|state|\n",
      "+---------+--------+-----+\n",
      "|    James|   Smith|   CA|\n",
      "|  Michael|    Rose|   NY|\n",
      "|   Robert|Williams|   CA|\n",
      "+---------+--------+-----+\n",
      "only showing top 3 rows\n",
      "\n"
     ]
    }
   ],
   "source": [
    "df.select( df.firstname, df.lastname, df.state).show(3)"
   ]
  },
  {
   "cell_type": "code",
   "execution_count": 16,
   "id": "c9cd7c79",
   "metadata": {},
   "outputs": [
    {
     "name": "stdout",
     "output_type": "stream",
     "text": [
      "+---------+--------+\n",
      "|firstname|lastname|\n",
      "+---------+--------+\n",
      "|    James|   Smith|\n",
      "|  Michael|    Rose|\n",
      "|   Robert|Williams|\n",
      "|    Maria|   Jones|\n",
      "+---------+--------+\n",
      "\n"
     ]
    }
   ],
   "source": [
    "# user col() function\n",
    "from pyspark.sql.functions import col\n",
    "df.select(df.colRegex(\"`^.*name*`\")).show()"
   ]
  },
  {
   "cell_type": "code",
   "execution_count": 18,
   "id": "81280357",
   "metadata": {},
   "outputs": [
    {
     "name": "stdout",
     "output_type": "stream",
     "text": [
      "+---------+--------+-------+-----+\n",
      "|firstname|lastname|country|state|\n",
      "+---------+--------+-------+-----+\n",
      "|    James|   Smith|    USA|   CA|\n",
      "|  Michael|    Rose|    USA|   NY|\n",
      "|   Robert|Williams|    USA|   CA|\n",
      "|    Maria|   Jones|    USA|   FL|\n",
      "+---------+--------+-------+-----+\n",
      "\n"
     ]
    }
   ],
   "source": [
    "# select all  columns\n",
    "df.select(*columns).show()"
   ]
  },
  {
   "cell_type": "code",
   "execution_count": 19,
   "id": "5efcdef2",
   "metadata": {},
   "outputs": [
    {
     "name": "stdout",
     "output_type": "stream",
     "text": [
      "+---------+--------+-------+-----+\n",
      "|firstname|lastname|country|state|\n",
      "+---------+--------+-------+-----+\n",
      "|    James|   Smith|    USA|   CA|\n",
      "|  Michael|    Rose|    USA|   NY|\n",
      "|   Robert|Williams|    USA|   CA|\n",
      "|    Maria|   Jones|    USA|   FL|\n",
      "+---------+--------+-------+-----+\n",
      "\n"
     ]
    }
   ],
   "source": [
    "df.select(\"*\").show()"
   ]
  },
  {
   "cell_type": "code",
   "execution_count": 22,
   "id": "1e8074a7",
   "metadata": {},
   "outputs": [],
   "source": [
    "#replace string column values\n",
    "# using regexp_replace()\n",
    "from pyspark.sql.functions import regexp_replace"
   ]
  },
  {
   "cell_type": "code",
   "execution_count": 23,
   "id": "a40c9263",
   "metadata": {},
   "outputs": [
    {
     "name": "stdout",
     "output_type": "stream",
     "text": [
      "+---------+--------+-------+-----+----------+\n",
      "|firstname|lastname|country|state|lastname00|\n",
      "+---------+--------+-------+-----+----------+\n",
      "|    James|   Smith|    USA|   CA|     Smith|\n",
      "|  Michael|    Rose|    USA|   NY|   Rosenew|\n",
      "|   Robert|Williams|    USA|   CA|  Williams|\n",
      "|    Maria|   Jones|    USA|   FL|     Jones|\n",
      "+---------+--------+-------+-----+----------+\n",
      "\n"
     ]
    }
   ],
   "source": [
    "df.withColumn('lastname00', regexp_replace('lastname','Rose', 'Rosenew' )).show()"
   ]
  },
  {
   "cell_type": "code",
   "execution_count": 24,
   "id": "b18f37ca",
   "metadata": {},
   "outputs": [
    {
     "name": "stdout",
     "output_type": "stream",
     "text": [
      "+---------+--------+-------+-----+\n",
      "|firstname|lastname|country|state|\n",
      "+---------+--------+-------+-----+\n",
      "|    James|   Smith|    USA|   CA|\n",
      "|  Michael|    Rose|    USA|   NY|\n",
      "|   Robert|Williams|    USA|   CA|\n",
      "|    Maria|   Jones|    USA|   FL|\n",
      "+---------+--------+-------+-----+\n",
      "\n"
     ]
    }
   ],
   "source": [
    "df.show()\n"
   ]
  },
  {
   "cell_type": "code",
   "execution_count": 28,
   "id": "98875bf8",
   "metadata": {},
   "outputs": [],
   "source": [
    "df3 = df.withColumn('newState', df.state)  # add a new column"
   ]
  },
  {
   "cell_type": "code",
   "execution_count": 29,
   "id": "d345703c",
   "metadata": {},
   "outputs": [
    {
     "name": "stdout",
     "output_type": "stream",
     "text": [
      "+---------+--------+-------+-----+--------+\n",
      "|firstname|lastname|country|state|newState|\n",
      "+---------+--------+-------+-----+--------+\n",
      "|    James|   Smith|    USA|   CA|      CA|\n",
      "|  Michael|    Rose|    USA|   NY|      NY|\n",
      "|   Robert|Williams|    USA|   CA|      CA|\n",
      "|    Maria|   Jones|    USA|   FL|      FL|\n",
      "+---------+--------+-------+-----+--------+\n",
      "\n"
     ]
    }
   ],
   "source": [
    "df3.show()\n"
   ]
  },
  {
   "cell_type": "code",
   "execution_count": 31,
   "id": "dc238db5",
   "metadata": {},
   "outputs": [],
   "source": [
    "from pyspark.sql.functions import col,lit\n",
    "\n",
    "df4 = df.withColumn('newState2', lit('AconstantState'))"
   ]
  },
  {
   "cell_type": "code",
   "execution_count": 32,
   "id": "92fa63db",
   "metadata": {},
   "outputs": [
    {
     "name": "stdout",
     "output_type": "stream",
     "text": [
      "+---------+--------+-------+-----+--------------+\n",
      "|firstname|lastname|country|state|     newState2|\n",
      "+---------+--------+-------+-----+--------------+\n",
      "|    James|   Smith|    USA|   CA|AconstantState|\n",
      "|  Michael|    Rose|    USA|   NY|AconstantState|\n",
      "|   Robert|Williams|    USA|   CA|AconstantState|\n",
      "|    Maria|   Jones|    USA|   FL|AconstantState|\n",
      "+---------+--------+-------+-----+--------------+\n",
      "\n"
     ]
    }
   ],
   "source": [
    "df4.show()"
   ]
  },
  {
   "cell_type": "code",
   "execution_count": 35,
   "id": "bc597ed0",
   "metadata": {},
   "outputs": [
    {
     "name": "stdout",
     "output_type": "stream",
     "text": [
      "+---------+--------+-------+-----+\n",
      "|firstname|lastname|country|state|\n",
      "+---------+--------+-------+-----+\n",
      "|    James|   Smith|    USA|   CA|\n",
      "|  Michael|    Rose|    USA|   NY|\n",
      "|   Robert|Williams|    USA|   CA|\n",
      "|    Maria|   Jones|    USA|   FL|\n",
      "+---------+--------+-------+-----+\n",
      "\n"
     ]
    }
   ],
   "source": [
    "#drop column\n",
    "df4.drop('newState2').show()"
   ]
  },
  {
   "cell_type": "code",
   "execution_count": 34,
   "id": "386d6df8",
   "metadata": {},
   "outputs": [
    {
     "name": "stdout",
     "output_type": "stream",
     "text": [
      "+---------+--------+-------+-----+--------------+\n",
      "|firstname|lastname|country|state|     newState2|\n",
      "+---------+--------+-------+-----+--------------+\n",
      "|    James|   Smith|    USA|   CA|AconstantState|\n",
      "|  Michael|    Rose|    USA|   NY|AconstantState|\n",
      "|   Robert|Williams|    USA|   CA|AconstantState|\n",
      "|    Maria|   Jones|    USA|   FL|AconstantState|\n",
      "+---------+--------+-------+-----+--------------+\n",
      "\n"
     ]
    }
   ],
   "source": []
  },
  {
   "cell_type": "code",
   "execution_count": null,
   "id": "f0b119ae",
   "metadata": {},
   "outputs": [],
   "source": []
  }
 ],
 "metadata": {
  "kernelspec": {
   "display_name": "Python 3 (ipykernel)",
   "language": "python",
   "name": "python3"
  },
  "language_info": {
   "codemirror_mode": {
    "name": "ipython",
    "version": 3
   },
   "file_extension": ".py",
   "mimetype": "text/x-python",
   "name": "python",
   "nbconvert_exporter": "python",
   "pygments_lexer": "ipython3",
   "version": "3.9.7"
  }
 },
 "nbformat": 4,
 "nbformat_minor": 5
}
