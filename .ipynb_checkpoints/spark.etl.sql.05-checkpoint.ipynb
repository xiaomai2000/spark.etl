{
 "cells": [
  {
   "cell_type": "code",
   "execution_count": 2,
   "id": "1c6c0fa5",
   "metadata": {},
   "outputs": [],
   "source": [
    "import pyspark"
   ]
  },
  {
   "cell_type": "code",
   "execution_count": 3,
   "id": "735fafbb",
   "metadata": {},
   "outputs": [],
   "source": [
    "from pyspark.sql import SparkSession"
   ]
  },
  {
   "cell_type": "code",
   "execution_count": 4,
   "id": "d9e5bacf",
   "metadata": {},
   "outputs": [],
   "source": [
    "from pyspark.context import SparkContext"
   ]
  },
  {
   "cell_type": "code",
   "execution_count": 8,
   "id": "c7cac340",
   "metadata": {},
   "outputs": [],
   "source": [
    "spark = SparkSession.builder.appName('etl.sql.05').getOrCreate()"
   ]
  },
  {
   "cell_type": "code",
   "execution_count": 12,
   "id": "72de247e",
   "metadata": {},
   "outputs": [],
   "source": [
    "df = spark.read.csv(\"c:\\\\temp\\\\diamonds.csv\", header=True)\n"
   ]
  },
  {
   "cell_type": "code",
   "execution_count": 13,
   "id": "53684bfa",
   "metadata": {},
   "outputs": [
    {
     "name": "stdout",
     "output_type": "stream",
     "text": [
      "+-----+---------+-----+-------+-----+-----+-----+----+----+----+\n",
      "|carat|      cut|color|clarity|depth|table|price|   x|   y|   z|\n",
      "+-----+---------+-----+-------+-----+-----+-----+----+----+----+\n",
      "| 0.23|    Ideal|    E|    SI2| 61.5|   55|  326|3.95|3.98|2.43|\n",
      "| 0.21|  Premium|    E|    SI1| 59.8|   61|  326|3.89|3.84|2.31|\n",
      "| 0.23|     Good|    E|    VS1| 56.9|   65|  327|4.05|4.07|2.31|\n",
      "| 0.29|  Premium|    I|    VS2| 62.4|   58|  334| 4.2|4.23|2.63|\n",
      "| 0.31|     Good|    J|    SI2| 63.3|   58|  335|4.34|4.35|2.75|\n",
      "| 0.24|Very Good|    J|   VVS2| 62.8|   57|  336|3.94|3.96|2.48|\n",
      "| 0.24|Very Good|    I|   VVS1| 62.3|   57|  336|3.95|3.98|2.47|\n",
      "| 0.26|Very Good|    H|    SI1| 61.9|   55|  337|4.07|4.11|2.53|\n",
      "| 0.22|     Fair|    E|    VS2| 65.1|   61|  337|3.87|3.78|2.49|\n",
      "| 0.23|Very Good|    H|    VS1| 59.4|   61|  338|   4|4.05|2.39|\n",
      "+-----+---------+-----+-------+-----+-----+-----+----+----+----+\n",
      "only showing top 10 rows\n",
      "\n"
     ]
    }
   ],
   "source": [
    "df.show(10)"
   ]
  },
  {
   "cell_type": "code",
   "execution_count": 14,
   "id": "687eb4d9",
   "metadata": {},
   "outputs": [
    {
     "name": "stdout",
     "output_type": "stream",
     "text": [
      "root\n",
      " |-- carat: string (nullable = true)\n",
      " |-- cut: string (nullable = true)\n",
      " |-- color: string (nullable = true)\n",
      " |-- clarity: string (nullable = true)\n",
      " |-- depth: string (nullable = true)\n",
      " |-- table: string (nullable = true)\n",
      " |-- price: string (nullable = true)\n",
      " |-- x: string (nullable = true)\n",
      " |-- y: string (nullable = true)\n",
      " |-- z: string (nullable = true)\n",
      "\n"
     ]
    }
   ],
   "source": [
    "df.printSchema()"
   ]
  },
  {
   "cell_type": "code",
   "execution_count": 18,
   "id": "9957ea1a",
   "metadata": {},
   "outputs": [],
   "source": [
    "dfvw = df.createOrReplaceTempView(\"DIAMOND\")"
   ]
  },
  {
   "cell_type": "code",
   "execution_count": 22,
   "id": "fa708877",
   "metadata": {},
   "outputs": [
    {
     "name": "stdout",
     "output_type": "stream",
     "text": [
      "+-----+---------+-----+-------+-----+-----+-----+----+----+----+\n",
      "|carat|      cut|color|clarity|depth|table|price|   x|   y|   z|\n",
      "+-----+---------+-----+-------+-----+-----+-----+----+----+----+\n",
      "| 0.31|     Good|    J|    SI2| 63.3|   58|  335|4.34|4.35|2.75|\n",
      "|  0.3|     Good|    J|    SI1|   64|   55|  339|4.25|4.28|2.73|\n",
      "| 0.31|    Ideal|    J|    SI2| 62.2|   54|  344|4.35|4.37|2.71|\n",
      "| 0.32|  Premium|    E|     I1| 60.9|   58|  345|4.38|4.42|2.68|\n",
      "|  0.3|    Ideal|    I|    SI2|   62|   54|  348|4.31|4.34|2.68|\n",
      "|  0.3|     Good|    J|    SI1| 63.4|   54|  351|4.23|4.29| 2.7|\n",
      "|  0.3|     Good|    J|    SI1| 63.8|   56|  351|4.23|4.26|2.71|\n",
      "|  0.3|Very Good|    J|    SI1| 62.7|   59|  351|4.21|4.27|2.66|\n",
      "|  0.3|     Good|    I|    SI2| 63.3|   56|  351|4.26| 4.3|2.71|\n",
      "| 0.31|Very Good|    J|    SI1| 59.4|   62|  353|4.39|4.43|2.62|\n",
      "| 0.31|Very Good|    J|    SI1| 58.1|   62|  353|4.44|4.47|2.59|\n",
      "|  0.3|Very Good|    J|    VS2| 62.2|   57|  357|4.28| 4.3|2.67|\n",
      "| 0.31|     Good|    H|    SI1|   64|   54|  402|4.29|4.31|2.75|\n",
      "| 0.33|    Ideal|    I|    SI2| 61.8|   55|  403|4.49|4.51|2.78|\n",
      "| 0.33|    Ideal|    I|    SI2| 61.2|   56|  403|4.49| 4.5|2.75|\n",
      "| 0.33|    Ideal|    J|    SI1| 61.1|   56|  403|4.49|4.55|2.76|\n",
      "| 0.32|     Good|    H|    SI2| 63.1|   56|  403|4.34|4.37|2.75|\n",
      "| 0.29|  Premium|    F|    SI1| 62.4|   58|  403|4.24|4.26|2.65|\n",
      "| 0.32|Very Good|    H|    SI2| 61.8|   55|  403|4.35|4.42|2.71|\n",
      "| 0.32|     Good|    H|    SI2| 63.8|   56|  403|4.36|4.38|2.79|\n",
      "+-----+---------+-----+-------+-----+-----+-----+----+----+----+\n",
      "only showing top 20 rows\n",
      "\n"
     ]
    }
   ],
   "source": [
    "spark.sql(\"select * from DIAMOND where x>4.2\").show()"
   ]
  },
  {
   "cell_type": "code",
   "execution_count": 23,
   "id": "05f86e95",
   "metadata": {},
   "outputs": [],
   "source": [
    "dfvw2 = df.createOrReplaceTempView(\"DIAMOND2\")"
   ]
  },
  {
   "cell_type": "code",
   "execution_count": 24,
   "id": "16c5b8ce",
   "metadata": {},
   "outputs": [
    {
     "name": "stdout",
     "output_type": "stream",
     "text": [
      "+-----+---------+-----+-------+-----+-----+-----+----+----+----+\n",
      "|carat|      cut|color|clarity|depth|table|price|   x|   y|   z|\n",
      "+-----+---------+-----+-------+-----+-----+-----+----+----+----+\n",
      "| 0.86|     Fair|    E|    SI2| 55.1|   69| 2757|6.45|6.33|3.52|\n",
      "| 0.81|    Ideal|    F|    SI2| 58.8|   57| 2761|6.14|6.11| 3.6|\n",
      "|  0.8|    Ideal|    F|    SI2| 61.4|   57| 2761|5.96|   6|3.67|\n",
      "|  0.9|  Premium|    I|    VS2|   63|   58| 2761|6.16|6.12|3.87|\n",
      "|  0.8|    Ideal|    F|    SI2| 59.9|   59| 2762|6.01|6.07|3.62|\n",
      "| 0.91|     Fair|    H|    SI2| 64.4|   57| 2763|6.11|6.09|3.93|\n",
      "|  0.8|Very Good|    F|    SI2|   61|   57| 2772|6.01|6.03|3.67|\n",
      "| 1.17|Very Good|    J|     I1| 60.2|   61| 2774|6.83| 6.9|4.13|\n",
      "| 1.01|  Premium|    F|     I1| 61.8|   60| 2781|6.39|6.36|3.94|\n",
      "| 0.84|     Fair|    G|    SI1| 55.1|   67| 2782|6.39| 6.2|3.47|\n",
      "| 0.83|Very Good|    I|    VS1| 61.1|   60| 2788|6.07| 6.1|3.72|\n",
      "| 1.01|     Fair|    E|     I1| 64.5|   58| 2788|6.29|6.21|4.03|\n",
      "| 1.01|  Premium|    H|    SI2| 62.7|   59| 2788|6.31|6.22|3.93|\n",
      "| 1.05|Very Good|    J|    SI2| 63.2|   56| 2789|6.49|6.45|4.09|\n",
      "| 0.81|    Ideal|    G|    SI2| 61.6|   56| 2789|5.97|6.01|3.69|\n",
      "| 1.05|     Fair|    J|    SI2| 65.8|   59| 2789|6.41|6.27|4.18|\n",
      "| 0.83|    Ideal|    F|    SI2| 62.3|   55| 2790|6.02|6.05|3.76|\n",
      "| 0.87|Very Good|    I|    SI1| 63.6| 55.8| 2791|6.07| 6.1|3.87|\n",
      "| 0.79|Very Good|    G|    SI1| 60.6|   57| 2793|5.98|6.06|3.65|\n",
      "| 0.81|  Premium|    H|    VS2|   58|   59| 2795|6.17|6.13|3.57|\n",
      "+-----+---------+-----+-------+-----+-----+-----+----+----+----+\n",
      "only showing top 20 rows\n",
      "\n"
     ]
    }
   ],
   "source": [
    "spark.sql(\"select * from DIAMOND2 where y > 5\").show()"
   ]
  },
  {
   "cell_type": "code",
   "execution_count": 33,
   "id": "0449472c",
   "metadata": {},
   "outputs": [],
   "source": [
    "innerJoinVw = spark.sql(\"select a.carat, b.carat, a.x as ax, b.x as bx from DIAMOND a,DIAMOND2 b where a.carat = b.carat\")"
   ]
  },
  {
   "cell_type": "code",
   "execution_count": 34,
   "id": "af7e6da7",
   "metadata": {},
   "outputs": [
    {
     "name": "stdout",
     "output_type": "stream",
     "text": [
      "+-----+-----+----+----+\n",
      "|carat|carat|  ax|  bx|\n",
      "+-----+-----+----+----+\n",
      "| 0.23| 0.23|3.95|4.09|\n",
      "| 0.23| 0.23|3.95|4.03|\n",
      "| 0.23| 0.23|3.95|3.97|\n",
      "| 0.23| 0.23|3.95|3.96|\n",
      "| 0.23| 0.23|3.95|3.94|\n",
      "| 0.23| 0.23|3.95|3.98|\n",
      "| 0.23| 0.23|3.95| 3.9|\n",
      "| 0.23| 0.23|3.95|4.06|\n",
      "| 0.23| 0.23|3.95|3.96|\n",
      "| 0.23| 0.23|3.95|4.02|\n",
      "| 0.23| 0.23|3.95|3.95|\n",
      "| 0.23| 0.23|3.95|3.84|\n",
      "| 0.23| 0.23|3.95|3.97|\n",
      "| 0.23| 0.23|3.95|3.92|\n",
      "| 0.23| 0.23|3.95|3.98|\n",
      "| 0.23| 0.23|3.95|3.92|\n",
      "| 0.23| 0.23|3.95|3.91|\n",
      "| 0.23| 0.23|3.95|3.96|\n",
      "| 0.23| 0.23|3.95|3.91|\n",
      "| 0.23| 0.23|3.95| 3.9|\n",
      "+-----+-----+----+----+\n",
      "only showing top 20 rows\n",
      "\n"
     ]
    }
   ],
   "source": [
    "innerJoinVw.show()"
   ]
  },
  {
   "cell_type": "code",
   "execution_count": null,
   "id": "a7ff8a5d",
   "metadata": {},
   "outputs": [],
   "source": []
  }
 ],
 "metadata": {
  "kernelspec": {
   "display_name": "Python 3 (ipykernel)",
   "language": "python",
   "name": "python3"
  },
  "language_info": {
   "codemirror_mode": {
    "name": "ipython",
    "version": 3
   },
   "file_extension": ".py",
   "mimetype": "text/x-python",
   "name": "python",
   "nbconvert_exporter": "python",
   "pygments_lexer": "ipython3",
   "version": "3.9.7"
  }
 },
 "nbformat": 4,
 "nbformat_minor": 5
}
