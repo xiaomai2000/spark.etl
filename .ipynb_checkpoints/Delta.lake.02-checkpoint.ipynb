{
 "cells": [
  {
   "cell_type": "code",
   "execution_count": 1,
   "id": "b43ef878",
   "metadata": {},
   "outputs": [
    {
     "ename": "ModuleNotFoundError",
     "evalue": "No module named 'org'",
     "output_type": "error",
     "traceback": [
      "\u001b[1;31m---------------------------------------------------------------------------\u001b[0m",
      "\u001b[1;31mModuleNotFoundError\u001b[0m                       Traceback (most recent call last)",
      "\u001b[1;32m~\\AppData\\Local\\Temp/ipykernel_34956/4115088033.py\u001b[0m in \u001b[0;36m<module>\u001b[1;34m\u001b[0m\n\u001b[1;32m----> 1\u001b[1;33m \u001b[1;32mimport\u001b[0m \u001b[0morg\u001b[0m\u001b[1;33m.\u001b[0m\u001b[0mapache\u001b[0m\u001b[1;33m.\u001b[0m\u001b[0mspark\u001b[0m\u001b[1;33m.\u001b[0m\u001b[0msql\u001b[0m\u001b[1;33m.\u001b[0m\u001b[0mtypes\u001b[0m\u001b[1;33m.\u001b[0m\u001b[0m_\u001b[0m\u001b[1;33m\u001b[0m\u001b[1;33m\u001b[0m\u001b[0m\n\u001b[0m\u001b[0;32m      2\u001b[0m \u001b[1;32mimport\u001b[0m \u001b[0mio\u001b[0m\u001b[1;33m.\u001b[0m\u001b[0mdelta\u001b[0m\u001b[1;33m.\u001b[0m\u001b[0mtables\u001b[0m\u001b[1;33m.\u001b[0m\u001b[0m_\u001b[0m\u001b[1;33m\u001b[0m\u001b[1;33m\u001b[0m\u001b[0m\n",
      "\u001b[1;31mModuleNotFoundError\u001b[0m: No module named 'org'"
     ]
    }
   ],
   "source": [
    "import org.apache.spark.sql.types._\n",
    "import io.delta.tables._"
   ]
  },
  {
   "cell_type": "code",
   "execution_count": null,
   "id": "df54f3a9",
   "metadata": {},
   "outputs": [],
   "source": [
    "DeltaTable.create(spark)\n",
    "          .tableName(\"employee\")\n",
    "          .addColumn(\"Id\", IntegerType)\n",
    "          .addColumn(\"Name\", StringType)\n",
    "          .addColumn(\"Department\", StringType)\n",
    "          .addColumn(\"Salary\", DoubleType)\n",
    "          .addColumn(DeltaTable.columnBuilder(\"Doj\")\n",
    "                       .dataType(DateType)\n",
    "                       .comment(\"date of joining\")\n",
    "                       .build())\n",
    "         .property(\"description\", \"table with employee data and created using deltatable builder\")\n",
    "         .addColumn(\"Date_Updated\", DateType).execute()\n",
    "spark.read.table(\"employee\").printSchema()"
   ]
  }
 ],
 "metadata": {
  "kernelspec": {
   "display_name": "pyocr",
   "language": "python",
   "name": "pyocr"
  },
  "language_info": {
   "codemirror_mode": {
    "name": "ipython",
    "version": 3
   },
   "file_extension": ".py",
   "mimetype": "text/x-python",
   "name": "python",
   "nbconvert_exporter": "python",
   "pygments_lexer": "ipython3",
   "version": "3.9.7"
  }
 },
 "nbformat": 4,
 "nbformat_minor": 5
}
